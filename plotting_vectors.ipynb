{
 "cells": [
  {
   "cell_type": "code",
   "execution_count": 2,
   "metadata": {},
   "outputs": [],
   "source": [
    "import numpy as np"
   ]
  },
  {
   "cell_type": "code",
   "execution_count": 3,
   "metadata": {},
   "outputs": [],
   "source": [
    "import matplotlib.pyplot as plt"
   ]
  },
  {
   "cell_type": "markdown",
   "metadata": {},
   "source": [
    "The following four vectors point to the corners of a square in the standard Cartesian basis of the (Euclidean) plane."
   ]
  },
  {
   "cell_type": "markdown",
   "metadata": {},
   "source": [
    "$v_1 =\n",
    "       \\begin{pmatrix}\n",
    "        1 \\\\\n",
    "        0 \n",
    "      \\end{pmatrix}\n",
    "      $\n",
    "$v_2=\n",
    "       \\begin{pmatrix}\n",
    "        0 \\\\\n",
    "        1 \n",
    "      \\end{pmatrix}\n",
    "      $\n",
    "$v_3=\n",
    "       \\begin{pmatrix}\n",
    "        -1 \\\\\n",
    "        0 \n",
    "      \\end{pmatrix}\n",
    "      $\n",
    "$v_4=\n",
    "       \\begin{pmatrix}\n",
    "        0 \\\\\n",
    "        -1 \n",
    "      \\end{pmatrix}\n",
    "      $"
   ]
  },
  {
   "cell_type": "code",
   "execution_count": 32,
   "metadata": {},
   "outputs": [
    {
     "data": {
      "image/png": "[encoded data removed]",
      "text/plain": [
       "<Figure size 432x288 with 1 Axes>"
      ]
     },
     "metadata": {
      "needs_background": "light"
     },
     "output_type": "display_data"
    }
   ],
   "source": [
    "# Vector origin location\n",
    "a = [0]\n",
    "a_1 = [0]\n",
    "\n",
    "b = [1]\n",
    "b_1 = [0] \n",
    "\n",
    "c = [1]\n",
    "c_1 = [1]\n",
    "\n",
    "d = [0]\n",
    "d_1 = [1]\n",
    "\n",
    "\n",
    "# Directional vectors\n",
    "v_1 = [1]\n",
    "v_1_1 = [0]\n",
    "\n",
    "v_2 = [0]\n",
    "v_2_1 = [1]\n",
    "\n",
    "v_3 = [-1]\n",
    "v_3_1 = [0]\n",
    "\n",
    "v_4 = [0]\n",
    "v_4_1 = [-1]\n",
    "\n",
    "# Creating plot\n",
    "plt.quiver(a, a_1, v_1, v_1_1, color='r', units='xy', scale=1)\n",
    "plt.quiver(b, b_1, v_2, v_2_1, color='b', units='xy', scale=1)\n",
    "plt.quiver(c, c_1, v_3, v_3_1, color='c', units='xy', scale=1)\n",
    "plt.quiver(d, d_1, v_4, v_4_1, color='m', units='xy', scale=1)\n",
    "\n",
    "# x-lim and y-lim\n",
    "plt.xlim(-2, 5)\n",
    "plt.ylim(-2, 2.5)\n",
    "\n",
    "# Show plot with gird\n",
    "plt.grid()\n",
    "plt.show()"
   ]
  },
  {
   "cell_type": "markdown",
   "metadata": {},
   "source": [
    "What is the vectorial sum of all four of these vectors?"
   ]
  },
  {
   "cell_type": "markdown",
   "metadata": {},
   "source": [
    "Find the vectors that point from the first vertex to the second, from the second to the third and so on going round the square. What is the sum of all four of these?"
   ]
  },
  {
   "cell_type": "markdown",
   "metadata": {},
   "source": [
    "What would be the sum of the three vectors for an equilateral triangle? For a pentagon?"
   ]
  },
  {
   "cell_type": "code",
   "execution_count": null,
   "metadata": {},
   "outputs": [],
   "source": []
  }
 ],
 "metadata": {
  "kernelspec": {
   "display_name": "Python 3",
   "language": "python",
   "name": "python3"
  },
  "language_info": {
   "codemirror_mode": {
    "name": "ipython",
    "version": 3
   },
   "file_extension": ".py",
   "mimetype": "text/x-python",
   "name": "python",
   "nbconvert_exporter": "python",
   "pygments_lexer": "ipython3",
   "version": "3.7.6"
  }
 },
 "nbformat": 4,
 "nbformat_minor": 4
}
