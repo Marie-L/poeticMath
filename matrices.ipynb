{
 "cells": [
  {
   "cell_type": "code",
   "execution_count": 3,
   "metadata": {},
   "outputs": [],
   "source": [
    "import numpy as np"
   ]
  },
  {
   "cell_type": "markdown",
   "metadata": {},
   "source": [
    "### Multiply the following vectors and matrices:"
   ]
  },
  {
   "cell_type": "code",
   "execution_count": 16,
   "metadata": {},
   "outputs": [
    {
     "data": {
      "text/plain": [
       "array([[3],\n",
       "       [3]])"
      ]
     },
     "execution_count": 16,
     "metadata": {},
     "output_type": "execute_result"
    }
   ],
   "source": [
    "matrix_a = np.array([[2, 1],\n",
    "                 [1, 2]])\n",
    "matrix_b = np.array([[1],\n",
    "                 [1]])\n",
    "\n",
    "result = np.dot(matrix_a, matrix_b)\n",
    "result"
   ]
  },
  {
   "cell_type": "code",
   "execution_count": 15,
   "metadata": {},
   "outputs": [
    {
     "data": {
      "text/plain": [
       "array([[ 1],\n",
       "       [-1]])"
      ]
     },
     "execution_count": 15,
     "metadata": {},
     "output_type": "execute_result"
    }
   ],
   "source": [
    "matrix_a = np.array([[2, 1],\n",
    "                 [1, 2]])\n",
    "matrix_b = np.array([[1],\n",
    "                 [-1]])\n",
    "\n",
    "result1 = np.dot(matrix_a, matrix_b)\n",
    "result1"
   ]
  },
  {
   "cell_type": "code",
   "execution_count": 17,
   "metadata": {},
   "outputs": [
    {
     "data": {
      "text/plain": [
       "array([[19, 22],\n",
       "       [43, 50]])"
      ]
     },
     "execution_count": 17,
     "metadata": {},
     "output_type": "execute_result"
    }
   ],
   "source": [
    "matrix_a = np.array([[1, 2],\n",
    "                 [3, 4]])\n",
    "matrix_b = np.array([[5, 6],\n",
    "                 [7, 8]])\n",
    "result2 = np.dot(matrix_a, matrix_b)\n",
    "result2"
   ]
  },
  {
   "cell_type": "code",
   "execution_count": null,
   "metadata": {},
   "outputs": [],
   "source": [
    "matrix_a = np.array([[1, 2],\n",
    "                 [3, 4]])\n",
    "matrix_b = np.array([[5, 6],\n",
    "                 [7, 8]])\n",
    "result2 = np.dot(matrix_a, matrix_b)\n",
    "result2"
   ]
  },
  {
   "cell_type": "code",
   "execution_count": 19,
   "metadata": {},
   "outputs": [
    {
     "data": {
      "text/plain": [
       "array([[2, 0],\n",
       "       [0, 2]])"
      ]
     },
     "execution_count": 19,
     "metadata": {},
     "output_type": "execute_result"
    }
   ],
   "source": [
    "matrix_a = np.array([[1, -1],\n",
    "                 [1, 1]])\n",
    "matrix_b = np.array([[1, 1],\n",
    "                 [-1, 1]])\n",
    "result3 = np.dot(matrix_a, matrix_b)\n",
    "result3"
   ]
  },
  {
   "cell_type": "code",
   "execution_count": 20,
   "metadata": {},
   "outputs": [
    {
     "data": {
      "text/plain": [
       "array([[1, 0, 0],\n",
       "       [0, 1, 0],\n",
       "       [0, 0, 1]])"
      ]
     },
     "execution_count": 20,
     "metadata": {},
     "output_type": "execute_result"
    }
   ],
   "source": [
    "matrix_a = np.array([[-1, 0, 0],\n",
    "                 [0, 0, -1],\n",
    "                    [0, 1, 0]])\n",
    "matrix_b = np.array([[-1, 0, 0],\n",
    "                 [0, 0, 1],\n",
    "                    [0, -1, 0]])\n",
    "result4 = np.dot(matrix_a, matrix_b)\n",
    "result4"
   ]
  },
  {
   "cell_type": "code",
   "execution_count": null,
   "metadata": {},
   "outputs": [],
   "source": []
  }
 ],
 "metadata": {
  "kernelspec": {
   "display_name": "Python 3",
   "language": "python",
   "name": "python3"
  },
  "language_info": {
   "codemirror_mode": {
    "name": "ipython",
    "version": 3
   },
   "file_extension": ".py",
   "mimetype": "text/x-python",
   "name": "python",
   "nbconvert_exporter": "python",
   "pygments_lexer": "ipython3",
   "version": "3.7.6"
  }
 },
 "nbformat": 4,
 "nbformat_minor": 4
}
